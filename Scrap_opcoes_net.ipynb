{
  "nbformat": 4,
  "nbformat_minor": 0,
  "metadata": {
    "colab": {
      "name": "Scrap_opcoes_net.ipynb",
      "provenance": [],
      "collapsed_sections": [],
      "authorship_tag": "ABX9TyOgXa3iU6Gl7nrkGFOjEJcQ",
      "include_colab_link": true
    },
    "kernelspec": {
      "name": "python3",
      "display_name": "Python 3"
    }
  },
  "cells": [
    {
      "cell_type": "markdown",
      "metadata": {
        "id": "view-in-github",
        "colab_type": "text"
      },
      "source": [
        "<a href=\"https://colab.research.google.com/github/niltonmalves/scrapping_opcoes_net/blob/master/Scrap_opcoes_net.ipynb\" target=\"_parent\"><img src=\"https://colab.research.google.com/assets/colab-badge.svg\" alt=\"Open In Colab\"/></a>"
      ]
    },
    {
      "cell_type": "code",
      "metadata": {
        "id": "jtXu3VrbPhC_",
        "colab_type": "code",
        "colab": {
          "base_uri": "https://localhost:8080/",
          "height": 1000
        },
        "outputId": "31c14ee7-1c8c-45fa-82d1-89f36ea20451"
      },
      "source": [
        "!pip install selenium\n",
        "!apt-get update # to update ubuntu to correctly run apt install\n",
        "!apt install chromium-chromedriver\n",
        "#!cp /usr/lib/chromium-browser/chromedriver /usr/bin"
      ],
      "execution_count": 15,
      "outputs": [
        {
          "output_type": "stream",
          "text": [
            "Collecting selenium\n",
            "\u001b[?25l  Downloading https://files.pythonhosted.org/packages/80/d6/4294f0b4bce4de0abf13e17190289f9d0613b0a44e5dd6a7f5ca98459853/selenium-3.141.0-py2.py3-none-any.whl (904kB)\n",
            "\u001b[K     |████████████████████████████████| 911kB 2.8MB/s \n",
            "\u001b[?25hRequirement already satisfied: urllib3 in /usr/local/lib/python3.6/dist-packages (from selenium) (1.24.3)\n",
            "Installing collected packages: selenium\n",
            "Successfully installed selenium-3.141.0\n",
            "Get:1 http://security.ubuntu.com/ubuntu bionic-security InRelease [88.7 kB]\n",
            "Get:2 https://cloud.r-project.org/bin/linux/ubuntu bionic-cran35/ InRelease [3,626 B]\n",
            "Ign:3 https://developer.download.nvidia.com/compute/cuda/repos/ubuntu1804/x86_64  InRelease\n",
            "Hit:4 http://ppa.launchpad.net/graphics-drivers/ppa/ubuntu bionic InRelease\n",
            "Hit:5 http://archive.ubuntu.com/ubuntu bionic InRelease\n",
            "Ign:6 https://developer.download.nvidia.com/compute/machine-learning/repos/ubuntu1804/x86_64  InRelease\n",
            "Hit:7 https://developer.download.nvidia.com/compute/cuda/repos/ubuntu1804/x86_64  Release\n",
            "Hit:8 https://developer.download.nvidia.com/compute/machine-learning/repos/ubuntu1804/x86_64  Release\n",
            "Get:9 http://archive.ubuntu.com/ubuntu bionic-updates InRelease [88.7 kB]\n",
            "Get:10 http://ppa.launchpad.net/marutter/c2d4u3.5/ubuntu bionic InRelease [15.4 kB]\n",
            "Get:11 http://security.ubuntu.com/ubuntu bionic-security/restricted amd64 Packages [89.9 kB]\n",
            "Get:12 http://security.ubuntu.com/ubuntu bionic-security/main amd64 Packages [1,005 kB]\n",
            "Get:13 http://archive.ubuntu.com/ubuntu bionic-backports InRelease [74.6 kB]\n",
            "Get:16 http://ppa.launchpad.net/marutter/c2d4u3.5/ubuntu bionic/main Sources [1,848 kB]\n",
            "Get:17 http://archive.ubuntu.com/ubuntu bionic-updates/main amd64 Packages [1,306 kB]\n",
            "Get:18 http://archive.ubuntu.com/ubuntu bionic-updates/restricted amd64 Packages [104 kB]\n",
            "Get:19 http://archive.ubuntu.com/ubuntu bionic-updates/universe amd64 Packages [1,405 kB]\n",
            "Get:20 http://archive.ubuntu.com/ubuntu bionic-backports/universe amd64 Packages [8,432 B]\n",
            "Get:21 http://ppa.launchpad.net/marutter/c2d4u3.5/ubuntu bionic/main amd64 Packages [892 kB]\n",
            "Fetched 6,930 kB in 3s (2,088 kB/s)\n",
            "Reading package lists... Done\n",
            "Reading package lists... Done\n",
            "Building dependency tree       \n",
            "Reading state information... Done\n",
            "The following package was automatically installed and is no longer required:\n",
            "  libnvidia-common-440\n",
            "Use 'apt autoremove' to remove it.\n",
            "The following additional packages will be installed:\n",
            "  chromium-browser chromium-browser-l10n chromium-codecs-ffmpeg-extra\n",
            "Suggested packages:\n",
            "  webaccounts-chromium-extension unity-chromium-extension adobe-flashplugin\n",
            "The following NEW packages will be installed:\n",
            "  chromium-browser chromium-browser-l10n chromium-chromedriver\n",
            "  chromium-codecs-ffmpeg-extra\n",
            "0 upgraded, 4 newly installed, 0 to remove and 47 not upgraded.\n",
            "Need to get 75.5 MB of archives.\n",
            "After this operation, 256 MB of additional disk space will be used.\n",
            "Get:1 http://archive.ubuntu.com/ubuntu bionic-updates/universe amd64 chromium-codecs-ffmpeg-extra amd64 83.0.4103.61-0ubuntu0.18.04.1 [1,119 kB]\n",
            "Get:2 http://archive.ubuntu.com/ubuntu bionic-updates/universe amd64 chromium-browser amd64 83.0.4103.61-0ubuntu0.18.04.1 [66.7 MB]\n",
            "Get:3 http://archive.ubuntu.com/ubuntu bionic-updates/universe amd64 chromium-browser-l10n all 83.0.4103.61-0ubuntu0.18.04.1 [3,378 kB]\n",
            "Get:4 http://archive.ubuntu.com/ubuntu bionic-updates/universe amd64 chromium-chromedriver amd64 83.0.4103.61-0ubuntu0.18.04.1 [4,294 kB]\n",
            "Fetched 75.5 MB in 3s (24.0 MB/s)\n",
            "Selecting previously unselected package chromium-codecs-ffmpeg-extra.\n",
            "(Reading database ... 144465 files and directories currently installed.)\n",
            "Preparing to unpack .../chromium-codecs-ffmpeg-extra_83.0.4103.61-0ubuntu0.18.04.1_amd64.deb ...\n",
            "Unpacking chromium-codecs-ffmpeg-extra (83.0.4103.61-0ubuntu0.18.04.1) ...\n",
            "Selecting previously unselected package chromium-browser.\n",
            "Preparing to unpack .../chromium-browser_83.0.4103.61-0ubuntu0.18.04.1_amd64.deb ...\n",
            "Unpacking chromium-browser (83.0.4103.61-0ubuntu0.18.04.1) ...\n",
            "Selecting previously unselected package chromium-browser-l10n.\n",
            "Preparing to unpack .../chromium-browser-l10n_83.0.4103.61-0ubuntu0.18.04.1_all.deb ...\n",
            "Unpacking chromium-browser-l10n (83.0.4103.61-0ubuntu0.18.04.1) ...\n",
            "Selecting previously unselected package chromium-chromedriver.\n",
            "Preparing to unpack .../chromium-chromedriver_83.0.4103.61-0ubuntu0.18.04.1_amd64.deb ...\n",
            "Unpacking chromium-chromedriver (83.0.4103.61-0ubuntu0.18.04.1) ...\n",
            "Setting up chromium-codecs-ffmpeg-extra (83.0.4103.61-0ubuntu0.18.04.1) ...\n",
            "Setting up chromium-browser (83.0.4103.61-0ubuntu0.18.04.1) ...\n",
            "update-alternatives: using /usr/bin/chromium-browser to provide /usr/bin/x-www-browser (x-www-browser) in auto mode\n",
            "update-alternatives: using /usr/bin/chromium-browser to provide /usr/bin/gnome-www-browser (gnome-www-browser) in auto mode\n",
            "Setting up chromium-chromedriver (83.0.4103.61-0ubuntu0.18.04.1) ...\n",
            "Setting up chromium-browser-l10n (83.0.4103.61-0ubuntu0.18.04.1) ...\n",
            "Processing triggers for hicolor-icon-theme (0.17-2) ...\n",
            "Processing triggers for mime-support (3.60ubuntu1) ...\n",
            "Processing triggers for man-db (2.8.3-2ubuntu0.1) ...\n"
          ],
          "name": "stdout"
        }
      ]
    },
    {
      "cell_type": "code",
      "metadata": {
        "id": "3SFkKjVP7h8d",
        "colab_type": "code",
        "colab": {
          "base_uri": "https://localhost:8080/",
          "height": 51
        },
        "outputId": "9144e2a2-162f-4567-ce85-ead1d22fb34b"
      },
      "source": [
        "import sys\n",
        "sys.path.insert(0,'/usr/lib/chromium-browser/chromedriver')\n",
        "from selenium import webdriver\n",
        "chrome_options = webdriver.ChromeOptions()\n",
        "chrome_options.add_argument('--headless')\n",
        "chrome_options.add_argument('--no-sandbox')\n",
        "chrome_options.add_argument('--disable-dev-shm-usage')\n",
        "chrome_options.add_argument('--start-maximized')\n",
        "chrome_options.add_argument('user-agent=Mozilla/5.0 (Windows NT 6.3; WOW64) AppleWebKit/537.36 (KHTML, like Gecko) Chrome/59.0.3071.115 Safari/537.36')\n",
        "chrome_options.add_argument('--ignore-certificate-errors')\n",
        "wd = webdriver.Chrome('chromedriver',chrome_options=chrome_options, service_args=['--verbose', '--log-path=/tmp/chromedriver.log'])"
      ],
      "execution_count": 109,
      "outputs": [
        {
          "output_type": "stream",
          "text": [
            "/usr/local/lib/python3.6/dist-packages/ipykernel_launcher.py:11: DeprecationWarning: use options instead of chrome_options\n",
            "  # This is added back by InteractiveShellApp.init_path()\n"
          ],
          "name": "stderr"
        }
      ]
    },
    {
      "cell_type": "code",
      "metadata": {
        "id": "Gn7Z-Cq7Pluu",
        "colab_type": "code",
        "colab": {}
      },
      "source": [
        "wd.delete_all_cookies()"
      ],
      "execution_count": 110,
      "outputs": []
    },
    {
      "cell_type": "code",
      "metadata": {
        "id": "rVqXlPePPwES",
        "colab_type": "code",
        "colab": {}
      },
      "source": [
        "wd.get(\"https://opcoes.net.br/opcoes/bovespa/PETR4\")"
      ],
      "execution_count": 111,
      "outputs": []
    },
    {
      "cell_type": "code",
      "metadata": {
        "id": "jqOfZ2aSP8jd",
        "colab_type": "code",
        "colab": {}
      },
      "source": [
        "# Click para ver todas as avaliações da página\n",
        "load_reviews = wd.find_element_by_xpath(\"//div[contains(@class, 'modal-header')]\")\n"
      ],
      "execution_count": 112,
      "outputs": []
    },
    {
      "cell_type": "code",
      "metadata": {
        "id": "tnScWfqa5YdL",
        "colab_type": "code",
        "colab": {}
      },
      "source": [
        "#wd.execute_script()"
      ],
      "execution_count": 113,
      "outputs": []
    },
    {
      "cell_type": "markdown",
      "metadata": {
        "id": "-PPeVFdPlfp2",
        "colab_type": "text"
      },
      "source": [
        ""
      ]
    },
    {
      "cell_type": "code",
      "metadata": {
        "id": "56dXcty3UQT4",
        "colab_type": "code",
        "colab": {}
      },
      "source": [
        "\"\"\" Aqui teoricamnete faz o click no site, para carregar as informações que estão em Ajax e não conseguimos ler com scrapping tradicional.\n",
        "Falta verificar como fazer alterações para clicar em outros botoes do site. Por exemplo, selecionar <label for=\"OTM_entre_5_e_15\">OTM entre 5% e 15%</label> \"\"\"\n",
        "wd.execute_script(\"arguments[0].click();\", load_reviews)"
      ],
      "execution_count": 114,
      "outputs": []
    },
    {
      "cell_type": "code",
      "metadata": {
        "id": "7EGG6HWOUVo_",
        "colab_type": "code",
        "colab": {}
      },
      "source": [
        "from bs4 import BeautifulSoup\n",
        "page_html = wd.page_source\n",
        "soup = BeautifulSoup(page_html,'html.parser')"
      ],
      "execution_count": 115,
      "outputs": []
    },
    {
      "cell_type": "code",
      "metadata": {
        "id": "CvoMLENWU2AL",
        "colab_type": "code",
        "colab": {
          "base_uri": "https://localhost:8080/",
          "height": 34
        },
        "outputId": "0d75324b-683d-4693-c1a1-abbc0ec66f7a"
      },
      "source": [
        "\n",
        "load_reviews"
      ],
      "execution_count": 116,
      "outputs": [
        {
          "output_type": "execute_result",
          "data": {
            "text/plain": [
              "<selenium.webdriver.remote.webelement.WebElement (session=\"0c60472eaba2872dc47d11c2076c236d\", element=\"768449d2-14ca-4434-af15-31e85419f1ad\")>"
            ]
          },
          "metadata": {
            "tags": []
          },
          "execution_count": 116
        }
      ]
    },
    {
      "cell_type": "code",
      "metadata": {
        "id": "RNlGDOzsVfMb",
        "colab_type": "code",
        "colab": {}
      },
      "source": [
        ""
      ],
      "execution_count": 116,
      "outputs": []
    },
    {
      "cell_type": "code",
      "metadata": {
        "id": "hsOUNXYgc9bP",
        "colab_type": "code",
        "colab": {}
      },
      "source": [
        ""
      ],
      "execution_count": 116,
      "outputs": []
    },
    {
      "cell_type": "code",
      "metadata": {
        "id": "sHtcM4SKdUAr",
        "colab_type": "code",
        "colab": {}
      },
      "source": [
        "indices=[]\n",
        "for i in range(len(soup.find_all('th'))):\n",
        "\n",
        "  indices.append(soup.find_all('th')[i].text)"
      ],
      "execution_count": 117,
      "outputs": []
    },
    {
      "cell_type": "code",
      "metadata": {
        "id": "b17F5d0deQ2f",
        "colab_type": "code",
        "colab": {
          "base_uri": "https://localhost:8080/",
          "height": 412
        },
        "outputId": "9355ce3c-2c0f-4e46-9468-a21fcfa6a505"
      },
      "source": [
        "indices"
      ],
      "execution_count": 118,
      "outputs": [
        {
          "output_type": "execute_result",
          "data": {
            "text/plain": [
              "['Ticker',\n",
              " 'FM',\n",
              " 'Tipo',\n",
              " 'Mod.',\n",
              " 'A/I/OTM',\n",
              " 'Strike',\n",
              " 'Distância % do Strike',\n",
              " 'Prêmio como % da última cotação',\n",
              " 'Último',\n",
              " 'Número de Negócios',\n",
              " 'Volume Negociado',\n",
              " 'Data/Hora',\n",
              " 'Vol. Implícita',\n",
              " 'Delta',\n",
              " 'Gamma',\n",
              " 'Theta',\n",
              " 'Vega',\n",
              " '✔',\n",
              " 'CALLPUT',\n",
              " 'AE',\n",
              " 'ATMITMOTM',\n",
              " '6,638,489,4810,5311,2811,5311,7812,0312,5312,7813,0313,5313,7814,0314,2814,5314,7815,0315,2815,5315,7816,0316,2816,5316,7817,0317,2817,5317,7818,0318,2818,5318,7819,0319,2819,5319,7820,0320,2820,5320,7821,0321,2821,5321,7822,0322,2822,5322,7823,0323,2823,5323,7824,0324,2824,5324,7825,0325,2825,5325,7826,0326,2826,5326,7827,0327,2827,5327,7828,0328,2828,5328,7829,0329,2829,5329,7830,0330,2830,5331,0331,2831,5331,7832,2832,5332,7833,0333,2833,5334,5335,0335,5336,5337,5338,53']"
            ]
          },
          "metadata": {
            "tags": []
          },
          "execution_count": 118
        }
      ]
    },
    {
      "cell_type": "code",
      "metadata": {
        "id": "Sxc8Hpv1fvwd",
        "colab_type": "code",
        "colab": {
          "base_uri": "https://localhost:8080/",
          "height": 307
        },
        "outputId": "989486e3-ce1c-4115-ed1b-5caeb5fc9292"
      },
      "source": [
        "indices.pop(-1)\n",
        "indices.pop(-1)\n",
        "indices.pop(-1)\n",
        "indices.pop(-1)\n",
        "indices.pop(-1)\n",
        "indices"
      ],
      "execution_count": 119,
      "outputs": [
        {
          "output_type": "execute_result",
          "data": {
            "text/plain": [
              "['Ticker',\n",
              " 'FM',\n",
              " 'Tipo',\n",
              " 'Mod.',\n",
              " 'A/I/OTM',\n",
              " 'Strike',\n",
              " 'Distância % do Strike',\n",
              " 'Prêmio como % da última cotação',\n",
              " 'Último',\n",
              " 'Número de Negócios',\n",
              " 'Volume Negociado',\n",
              " 'Data/Hora',\n",
              " 'Vol. Implícita',\n",
              " 'Delta',\n",
              " 'Gamma',\n",
              " 'Theta',\n",
              " 'Vega']"
            ]
          },
          "metadata": {
            "tags": []
          },
          "execution_count": 119
        }
      ]
    },
    {
      "cell_type": "code",
      "metadata": {
        "id": "zFU52y6yUo-J",
        "colab_type": "code",
        "colab": {}
      },
      "source": [
        "ticker_lista=[]\n",
        "fm_lista=[]\n",
        "Tipo_lista=[]\n",
        "Mod=[]\n",
        "AIOTM=[]\n",
        "Strike=[]\n",
        "DistanciadoStrike=[]\n",
        "Premio_perc_ultima_cotacao=[]\n",
        "ultimo_premio=[]\n",
        "nodenegocios=[]\n",
        "VolumeNegociado=[]\n",
        "DataHora=[]\n",
        "VolImplicita=[]\n",
        "Delta=[]\n",
        "Gamma=[]\n",
        "Theta=[]\n",
        "Vega=[]\n",
        "\n",
        "for i in range(0,len(soup.find_all('td')),17):\n",
        "\n",
        "  ticker_lista.append(soup.find_all('td')[i].text)\n",
        "  fm_lista.append(soup.find_all('td')[i+1].text)\n",
        "  Tipo_lista.append(soup.find_all('td')[i+2].text)\n",
        "  Mod.append(soup.find_all('td')[i+3].text)\n",
        "  AIOTM.append(soup.find_all('td')[i+4].text)\n",
        "  #Strike.append(soup.find_all('td')[i+5].text)\n",
        "  \n",
        "  Strike.append(float(soup.find_all('td')[i+5].text.replace(',','.')))\n",
        "  \n",
        "  #DistanciadoStrike.append(soup.find_all('td')[i+6].text)\n",
        "  DistanciadoStrike.append(float(soup.find_all('td')[i+6].text.replace(',','.')))\n",
        "  #Premio_perc_ultima_cotacao.append(soup.find_all('td')[i+7].text)\n",
        "  Premio_perc_ultima_cotacao.append(float(soup.find_all('td')[i+7].text.replace(',','.')))\n",
        "\n",
        "  #ultimo_premio.append(soup.find_all('td')[i+8].text)\n",
        "  ultimo_premio.append(float(soup.find_all('td')[i+8].text.replace(',','.')))\n",
        "\n",
        "  nodenegocios.append(soup.find_all('td')[i+9].text)\n",
        "  #excluindo os dados depois da virgula, para tentar transformar em numero\n",
        "  VolumeNegociado.append(soup.find_all('td')[i+10].text[:-3].replace('.',''))\n",
        "  #VolumeNegociado.append(soup.find_all('td')[i+10].text)\n",
        "  DataHora.append(soup.find_all('td')[i+11].text)\n",
        "  VolImplicita.append(soup.find_all('td')[i+12].text)\n",
        "  Delta.append(soup.find_all('td')[i+13].text)\n",
        "  Gamma.append(soup.find_all('td')[i+14].text)\n",
        "  Theta.append(soup.find_all('td')[i+15].text)\n",
        "  Vega.append(soup.find_all('td')[i+16].text)\n"
      ],
      "execution_count": 171,
      "outputs": []
    },
    {
      "cell_type": "code",
      "metadata": {
        "id": "cahmqMrW5OO2",
        "colab_type": "code",
        "colab": {
          "base_uri": "https://localhost:8080/",
          "height": 35
        },
        "outputId": "28d028d5-d57e-408a-f252-f4444e15eb8b"
      },
      "source": [
        "#soup.find_all('td')[i+10].text[:-3].replace('.','')"
      ],
      "execution_count": 170,
      "outputs": [
        {
          "output_type": "execute_result",
          "data": {
            "application/vnd.google.colaboratory.intrinsic": {
              "type": "string"
            },
            "text/plain": [
              "'556236'"
            ]
          },
          "metadata": {
            "tags": []
          },
          "execution_count": 170
        }
      ]
    },
    {
      "cell_type": "code",
      "metadata": {
        "id": "LxT46Mal0WY4",
        "colab_type": "code",
        "colab": {
          "base_uri": "https://localhost:8080/",
          "height": 34
        },
        "outputId": "b09c96ff-48e3-4f6b-eb9e-8a39e24c1b53"
      },
      "source": [
        "#float(soup.find_all('td')[i+7].text.replace(',','.'))"
      ],
      "execution_count": 139,
      "outputs": [
        {
          "output_type": "execute_result",
          "data": {
            "text/plain": [
              "7.08"
            ]
          },
          "metadata": {
            "tags": []
          },
          "execution_count": 139
        }
      ]
    },
    {
      "cell_type": "code",
      "metadata": {
        "id": "bVAxXJoxThNZ",
        "colab_type": "code",
        "colab": {}
      },
      "source": [
        ""
      ],
      "execution_count": 121,
      "outputs": []
    },
    {
      "cell_type": "code",
      "metadata": {
        "id": "s2RuocHhqVJs",
        "colab_type": "code",
        "colab": {
          "base_uri": "https://localhost:8080/",
          "height": 35
        },
        "outputId": "58f30b9b-ce9a-496e-c186-bc491d0dd633"
      },
      "source": [
        "#soup.find_all('td')[i+10].text[:-3]"
      ],
      "execution_count": 122,
      "outputs": [
        {
          "output_type": "execute_result",
          "data": {
            "application/vnd.google.colaboratory.intrinsic": {
              "type": "string"
            },
            "text/plain": [
              "'556.236'"
            ]
          },
          "metadata": {
            "tags": []
          },
          "execution_count": 122
        }
      ]
    },
    {
      "cell_type": "code",
      "metadata": {
        "id": "U2Iud-JdnugB",
        "colab_type": "code",
        "colab": {
          "base_uri": "https://localhost:8080/",
          "height": 35
        },
        "outputId": "a7a3b10a-a94b-45d3-9356-426e567722db"
      },
      "source": [
        "# Aqui tem um problema, pelo formato do numero ser em str, não consegui fazer alteração para float. Depois para fazer manipulação no DataFrame, fica inviável.\n",
        "#Problema foi resolvido, jogando o dataframe em excel. Tentar resolver essa extração aqui, antes de chegar ao Dataframe.\n",
        "soup.find_all('td')[i+5].text"
      ],
      "execution_count": 123,
      "outputs": [
        {
          "output_type": "execute_result",
          "data": {
            "application/vnd.google.colaboratory.intrinsic": {
              "type": "string"
            },
            "text/plain": [
              "'23,03'"
            ]
          },
          "metadata": {
            "tags": []
          },
          "execution_count": 123
        }
      ]
    },
    {
      "cell_type": "code",
      "metadata": {
        "id": "Xx17t1aRxuqe",
        "colab_type": "code",
        "colab": {
          "base_uri": "https://localhost:8080/",
          "height": 34
        },
        "outputId": "6c05fee7-8aae-4430-9b9e-d237fe262d4f"
      },
      "source": [
        "float(soup.find_all('td')[i+5].text.replace(',','.'))"
      ],
      "execution_count": 124,
      "outputs": [
        {
          "output_type": "execute_result",
          "data": {
            "text/plain": [
              "23.03"
            ]
          },
          "metadata": {
            "tags": []
          },
          "execution_count": 124
        }
      ]
    },
    {
      "cell_type": "code",
      "metadata": {
        "id": "8ad2VQpxp5rx",
        "colab_type": "code",
        "colab": {}
      },
      "source": [
        "import numpy as np\n",
        "ticker_lista=np.array(ticker_lista)\n",
        "fm_lista=np.array(fm_lista)\n",
        "Tipo_lista=np.array(Tipo_lista)\n",
        "Mod=np.array(Mod)\n",
        "AIOTM=np.array(AIOTM)\n",
        "Strike=np.array(Strike)\n",
        "DistanciadoStrike=np.array(DistanciadoStrike)\n",
        "Premio_perc_ultima_cotacao=np.array(Premio_perc_ultima_cotacao)\n",
        "ultimo_premio=np.array(ultimo_premio)\n",
        "nodenegocios=np.array(nodenegocios)\n",
        "VolumeNegociado=np.array(VolumeNegociado)\n",
        "DataHora=np.array(DataHora)\n",
        "VolImplicita=np.array(VolImplicita)\n",
        "Delta=np.array(Delta)\n",
        "Gamma=np.array(Gamma)\n",
        "Theta=np.array(Theta)\n",
        "Vega=np.array(Vega)"
      ],
      "execution_count": 173,
      "outputs": []
    },
    {
      "cell_type": "code",
      "metadata": {
        "id": "RKV6zrTOo29Y",
        "colab_type": "code",
        "colab": {
          "base_uri": "https://localhost:8080/",
          "height": 525
        },
        "outputId": "bd8e7885-8666-4cb5-e2af-6c913e29106d"
      },
      "source": [
        "import pandas as pd\n",
        "parametros=[ticker_lista,fm_lista,Tipo_lista,Mod,AIOTM,Strike,DistanciadoStrike,Premio_perc_ultima_cotacao,ultimo_premio,nodenegocios,VolumeNegociado,DataHora,VolImplicita,Delta,Gamma,Theta,Vega]\n",
        "opcoes=pd.DataFrame(parametros).T\n",
        "opcoes.columns=['ticker_lista','fm_lista','Tipo_lista','Mod','AIOTM','Strike','DistanciadoStrike','Premio_perc_ultima_cotacao','ultimo_premio','nodenegocios','VolumeNegociado','DataHora','VolImplicita','Delta','Gamma','Theta','Vega']\n",
        "opcoes"
      ],
      "execution_count": 175,
      "outputs": [
        {
          "output_type": "execute_result",
          "data": {
            "text/html": [
              "<div>\n",
              "<style scoped>\n",
              "    .dataframe tbody tr th:only-of-type {\n",
              "        vertical-align: middle;\n",
              "    }\n",
              "\n",
              "    .dataframe tbody tr th {\n",
              "        vertical-align: top;\n",
              "    }\n",
              "\n",
              "    .dataframe thead th {\n",
              "        text-align: right;\n",
              "    }\n",
              "</style>\n",
              "<table border=\"1\" class=\"dataframe\">\n",
              "  <thead>\n",
              "    <tr style=\"text-align: right;\">\n",
              "      <th></th>\n",
              "      <th>ticker_lista</th>\n",
              "      <th>fm_lista</th>\n",
              "      <th>Tipo_lista</th>\n",
              "      <th>Mod</th>\n",
              "      <th>AIOTM</th>\n",
              "      <th>Strike</th>\n",
              "      <th>DistanciadoStrike</th>\n",
              "      <th>Premio_perc_ultima_cotacao</th>\n",
              "      <th>ultimo_premio</th>\n",
              "      <th>nodenegocios</th>\n",
              "      <th>VolumeNegociado</th>\n",
              "      <th>DataHora</th>\n",
              "      <th>VolImplicita</th>\n",
              "      <th>Delta</th>\n",
              "      <th>Gamma</th>\n",
              "      <th>Theta</th>\n",
              "      <th>Vega</th>\n",
              "    </tr>\n",
              "  </thead>\n",
              "  <tbody>\n",
              "    <tr>\n",
              "      <th>0</th>\n",
              "      <td>PETRH182</td>\n",
              "      <td></td>\n",
              "      <td>CALL</td>\n",
              "      <td>E</td>\n",
              "      <td>ITM</td>\n",
              "      <td>21.28</td>\n",
              "      <td>-3.97</td>\n",
              "      <td>7.85</td>\n",
              "      <td>1.74</td>\n",
              "      <td>102</td>\n",
              "      <td>334498</td>\n",
              "      <td>13/07/2020</td>\n",
              "      <td></td>\n",
              "      <td></td>\n",
              "      <td></td>\n",
              "      <td></td>\n",
              "      <td></td>\n",
              "    </tr>\n",
              "    <tr>\n",
              "      <th>1</th>\n",
              "      <td>PETRT182</td>\n",
              "      <td></td>\n",
              "      <td>PUT</td>\n",
              "      <td>E</td>\n",
              "      <td>OTM</td>\n",
              "      <td>21.28</td>\n",
              "      <td>-3.97</td>\n",
              "      <td>3.29</td>\n",
              "      <td>0.73</td>\n",
              "      <td>95</td>\n",
              "      <td>115932</td>\n",
              "      <td>13/07/2020</td>\n",
              "      <td></td>\n",
              "      <td></td>\n",
              "      <td></td>\n",
              "      <td></td>\n",
              "      <td></td>\n",
              "    </tr>\n",
              "    <tr>\n",
              "      <th>2</th>\n",
              "      <td>PETRH220</td>\n",
              "      <td></td>\n",
              "      <td>CALL</td>\n",
              "      <td>A</td>\n",
              "      <td>ITM</td>\n",
              "      <td>21.53</td>\n",
              "      <td>-2.84</td>\n",
              "      <td>7.04</td>\n",
              "      <td>1.56</td>\n",
              "      <td>322</td>\n",
              "      <td>1569689</td>\n",
              "      <td>13/07/2020</td>\n",
              "      <td></td>\n",
              "      <td></td>\n",
              "      <td></td>\n",
              "      <td></td>\n",
              "      <td></td>\n",
              "    </tr>\n",
              "    <tr>\n",
              "      <th>3</th>\n",
              "      <td>PETRT220</td>\n",
              "      <td></td>\n",
              "      <td>PUT</td>\n",
              "      <td>E</td>\n",
              "      <td>OTM</td>\n",
              "      <td>21.53</td>\n",
              "      <td>-2.84</td>\n",
              "      <td>3.7</td>\n",
              "      <td>0.82</td>\n",
              "      <td>216</td>\n",
              "      <td>156930</td>\n",
              "      <td>13/07/2020</td>\n",
              "      <td></td>\n",
              "      <td></td>\n",
              "      <td></td>\n",
              "      <td></td>\n",
              "      <td></td>\n",
              "    </tr>\n",
              "    <tr>\n",
              "      <th>4</th>\n",
              "      <td>PETRH212</td>\n",
              "      <td></td>\n",
              "      <td>CALL</td>\n",
              "      <td>E</td>\n",
              "      <td>ITM</td>\n",
              "      <td>21.78</td>\n",
              "      <td>-1.71</td>\n",
              "      <td>6.32</td>\n",
              "      <td>1.4</td>\n",
              "      <td>61</td>\n",
              "      <td>310386</td>\n",
              "      <td>13/07/2020</td>\n",
              "      <td></td>\n",
              "      <td></td>\n",
              "      <td></td>\n",
              "      <td></td>\n",
              "      <td></td>\n",
              "    </tr>\n",
              "    <tr>\n",
              "      <th>5</th>\n",
              "      <td>PETRT212</td>\n",
              "      <td>✔</td>\n",
              "      <td>PUT</td>\n",
              "      <td>E</td>\n",
              "      <td>OTM</td>\n",
              "      <td>21.78</td>\n",
              "      <td>-1.71</td>\n",
              "      <td>4.29</td>\n",
              "      <td>0.95</td>\n",
              "      <td>233</td>\n",
              "      <td>715276</td>\n",
              "      <td>13/07/2020</td>\n",
              "      <td></td>\n",
              "      <td></td>\n",
              "      <td></td>\n",
              "      <td></td>\n",
              "      <td></td>\n",
              "    </tr>\n",
              "    <tr>\n",
              "      <th>6</th>\n",
              "      <td>PETRH225</td>\n",
              "      <td></td>\n",
              "      <td>CALL</td>\n",
              "      <td>A</td>\n",
              "      <td>ATM</td>\n",
              "      <td>22.03</td>\n",
              "      <td>-0.59</td>\n",
              "      <td>5.78</td>\n",
              "      <td>1.28</td>\n",
              "      <td>651</td>\n",
              "      <td>1394839</td>\n",
              "      <td>13/07/2020</td>\n",
              "      <td></td>\n",
              "      <td></td>\n",
              "      <td></td>\n",
              "      <td></td>\n",
              "      <td></td>\n",
              "    </tr>\n",
              "    <tr>\n",
              "      <th>7</th>\n",
              "      <td>PETRT225</td>\n",
              "      <td></td>\n",
              "      <td>PUT</td>\n",
              "      <td>E</td>\n",
              "      <td>ATM</td>\n",
              "      <td>22.03</td>\n",
              "      <td>-0.59</td>\n",
              "      <td>4.6</td>\n",
              "      <td>1.02</td>\n",
              "      <td>322</td>\n",
              "      <td>618163</td>\n",
              "      <td>13/07/2020</td>\n",
              "      <td></td>\n",
              "      <td></td>\n",
              "      <td></td>\n",
              "      <td></td>\n",
              "      <td></td>\n",
              "    </tr>\n",
              "    <tr>\n",
              "      <th>8</th>\n",
              "      <td>PETRH217</td>\n",
              "      <td></td>\n",
              "      <td>CALL</td>\n",
              "      <td>E</td>\n",
              "      <td>ATM</td>\n",
              "      <td>22.28</td>\n",
              "      <td>0.54</td>\n",
              "      <td>5.14</td>\n",
              "      <td>1.14</td>\n",
              "      <td>240</td>\n",
              "      <td>445259</td>\n",
              "      <td>13/07/2020</td>\n",
              "      <td></td>\n",
              "      <td></td>\n",
              "      <td></td>\n",
              "      <td></td>\n",
              "      <td></td>\n",
              "    </tr>\n",
              "    <tr>\n",
              "      <th>9</th>\n",
              "      <td>PETRT217</td>\n",
              "      <td></td>\n",
              "      <td>PUT</td>\n",
              "      <td>E</td>\n",
              "      <td>ATM</td>\n",
              "      <td>22.28</td>\n",
              "      <td>0.54</td>\n",
              "      <td>5.19</td>\n",
              "      <td>1.15</td>\n",
              "      <td>112</td>\n",
              "      <td>239928</td>\n",
              "      <td>13/07/2020</td>\n",
              "      <td></td>\n",
              "      <td></td>\n",
              "      <td></td>\n",
              "      <td></td>\n",
              "      <td></td>\n",
              "    </tr>\n",
              "    <tr>\n",
              "      <th>10</th>\n",
              "      <td>PETRH232</td>\n",
              "      <td></td>\n",
              "      <td>CALL</td>\n",
              "      <td>A</td>\n",
              "      <td>OTM</td>\n",
              "      <td>22.53</td>\n",
              "      <td>1.67</td>\n",
              "      <td>4.74</td>\n",
              "      <td>1.05</td>\n",
              "      <td>1.193</td>\n",
              "      <td>2567237</td>\n",
              "      <td>13/07/2020</td>\n",
              "      <td></td>\n",
              "      <td></td>\n",
              "      <td></td>\n",
              "      <td></td>\n",
              "      <td></td>\n",
              "    </tr>\n",
              "    <tr>\n",
              "      <th>11</th>\n",
              "      <td>PETRT232</td>\n",
              "      <td></td>\n",
              "      <td>PUT</td>\n",
              "      <td>E</td>\n",
              "      <td>ITM</td>\n",
              "      <td>22.53</td>\n",
              "      <td>1.67</td>\n",
              "      <td>5.87</td>\n",
              "      <td>1.3</td>\n",
              "      <td>306</td>\n",
              "      <td>952799</td>\n",
              "      <td>13/07/2020</td>\n",
              "      <td></td>\n",
              "      <td></td>\n",
              "      <td></td>\n",
              "      <td></td>\n",
              "      <td></td>\n",
              "    </tr>\n",
              "    <tr>\n",
              "      <th>12</th>\n",
              "      <td>PETRH199</td>\n",
              "      <td></td>\n",
              "      <td>CALL</td>\n",
              "      <td>E</td>\n",
              "      <td>OTM</td>\n",
              "      <td>22.78</td>\n",
              "      <td>2.8</td>\n",
              "      <td>4.15</td>\n",
              "      <td>0.92</td>\n",
              "      <td>482</td>\n",
              "      <td>455039</td>\n",
              "      <td>13/07/2020</td>\n",
              "      <td></td>\n",
              "      <td></td>\n",
              "      <td></td>\n",
              "      <td></td>\n",
              "      <td></td>\n",
              "    </tr>\n",
              "    <tr>\n",
              "      <th>13</th>\n",
              "      <td>PETRT199</td>\n",
              "      <td>✔</td>\n",
              "      <td>PUT</td>\n",
              "      <td>E</td>\n",
              "      <td>ITM</td>\n",
              "      <td>22.78</td>\n",
              "      <td>2.8</td>\n",
              "      <td>6.36</td>\n",
              "      <td>1.41</td>\n",
              "      <td>159</td>\n",
              "      <td>873728</td>\n",
              "      <td>13/07/2020</td>\n",
              "      <td></td>\n",
              "      <td></td>\n",
              "      <td></td>\n",
              "      <td></td>\n",
              "      <td></td>\n",
              "    </tr>\n",
              "    <tr>\n",
              "      <th>14</th>\n",
              "      <td>PETRH206</td>\n",
              "      <td></td>\n",
              "      <td>CALL</td>\n",
              "      <td>A</td>\n",
              "      <td>OTM</td>\n",
              "      <td>23.03</td>\n",
              "      <td>3.93</td>\n",
              "      <td>3.61</td>\n",
              "      <td>0.8</td>\n",
              "      <td>923</td>\n",
              "      <td>4568649</td>\n",
              "      <td>13/07/2020</td>\n",
              "      <td></td>\n",
              "      <td></td>\n",
              "      <td></td>\n",
              "      <td></td>\n",
              "      <td></td>\n",
              "    </tr>\n",
              "    <tr>\n",
              "      <th>15</th>\n",
              "      <td>PETRT206</td>\n",
              "      <td></td>\n",
              "      <td>PUT</td>\n",
              "      <td>E</td>\n",
              "      <td>ITM</td>\n",
              "      <td>23.03</td>\n",
              "      <td>3.93</td>\n",
              "      <td>7.08</td>\n",
              "      <td>1.57</td>\n",
              "      <td>143</td>\n",
              "      <td>556236</td>\n",
              "      <td>13/07/2020</td>\n",
              "      <td></td>\n",
              "      <td></td>\n",
              "      <td></td>\n",
              "      <td></td>\n",
              "      <td></td>\n",
              "    </tr>\n",
              "  </tbody>\n",
              "</table>\n",
              "</div>"
            ],
            "text/plain": [
              "   ticker_lista fm_lista Tipo_lista Mod  ... Delta Gamma Theta Vega\n",
              "0      PETRH182                CALL   E  ...                       \n",
              "1      PETRT182                 PUT   E  ...                       \n",
              "2      PETRH220                CALL   A  ...                       \n",
              "3      PETRT220                 PUT   E  ...                       \n",
              "4      PETRH212                CALL   E  ...                       \n",
              "5      PETRT212        ✔        PUT   E  ...                       \n",
              "6      PETRH225                CALL   A  ...                       \n",
              "7      PETRT225                 PUT   E  ...                       \n",
              "8      PETRH217                CALL   E  ...                       \n",
              "9      PETRT217                 PUT   E  ...                       \n",
              "10     PETRH232                CALL   A  ...                       \n",
              "11     PETRT232                 PUT   E  ...                       \n",
              "12     PETRH199                CALL   E  ...                       \n",
              "13     PETRT199        ✔        PUT   E  ...                       \n",
              "14     PETRH206                CALL   A  ...                       \n",
              "15     PETRT206                 PUT   E  ...                       \n",
              "\n",
              "[16 rows x 17 columns]"
            ]
          },
          "metadata": {
            "tags": []
          },
          "execution_count": 175
        }
      ]
    },
    {
      "cell_type": "code",
      "metadata": {
        "id": "j_lN5v-g1QMu",
        "colab_type": "code",
        "colab": {}
      },
      "source": [
        ""
      ],
      "execution_count": 176,
      "outputs": []
    },
    {
      "cell_type": "code",
      "metadata": {
        "id": "HLYGJLBQ4I2c",
        "colab_type": "code",
        "colab": {}
      },
      "source": [
        ""
      ],
      "execution_count": 177,
      "outputs": []
    },
    {
      "cell_type": "code",
      "metadata": {
        "id": "Lm6WX1onsC5x",
        "colab_type": "code",
        "colab": {}
      },
      "source": [
        "opcoes.Strike= opcoes.Strike.astype(np.float64)\n",
        "opcoes.DistanciadoStrike= opcoes.DistanciadoStrike.astype(np.float64)\n",
        "opcoes.Premio_perc_ultima_cotacao= opcoes.Premio_perc_ultima_cotacao.astype(np.float64)\n",
        "opcoes.ultimo_premio= opcoes.ultimo_premio.astype(np.float64)\n",
        "opcoes.nodenegocios= opcoes.nodenegocios.astype(np.float64)\n",
        "opcoes.VolumeNegociado= opcoes.VolumeNegociado.astype(np.float64)"
      ],
      "execution_count": 178,
      "outputs": []
    },
    {
      "cell_type": "code",
      "metadata": {
        "id": "IfnpfX1r4SKB",
        "colab_type": "code",
        "colab": {
          "base_uri": "https://localhost:8080/",
          "height": 137
        },
        "outputId": "2286ef8d-18c8-484e-ce0f-2a95814a7d7e"
      },
      "source": [
        "opcoes.head(3)"
      ],
      "execution_count": 179,
      "outputs": [
        {
          "output_type": "execute_result",
          "data": {
            "text/html": [
              "<div>\n",
              "<style scoped>\n",
              "    .dataframe tbody tr th:only-of-type {\n",
              "        vertical-align: middle;\n",
              "    }\n",
              "\n",
              "    .dataframe tbody tr th {\n",
              "        vertical-align: top;\n",
              "    }\n",
              "\n",
              "    .dataframe thead th {\n",
              "        text-align: right;\n",
              "    }\n",
              "</style>\n",
              "<table border=\"1\" class=\"dataframe\">\n",
              "  <thead>\n",
              "    <tr style=\"text-align: right;\">\n",
              "      <th></th>\n",
              "      <th>ticker_lista</th>\n",
              "      <th>fm_lista</th>\n",
              "      <th>Tipo_lista</th>\n",
              "      <th>Mod</th>\n",
              "      <th>AIOTM</th>\n",
              "      <th>Strike</th>\n",
              "      <th>DistanciadoStrike</th>\n",
              "      <th>Premio_perc_ultima_cotacao</th>\n",
              "      <th>ultimo_premio</th>\n",
              "      <th>nodenegocios</th>\n",
              "      <th>VolumeNegociado</th>\n",
              "      <th>DataHora</th>\n",
              "      <th>VolImplicita</th>\n",
              "      <th>Delta</th>\n",
              "      <th>Gamma</th>\n",
              "      <th>Theta</th>\n",
              "      <th>Vega</th>\n",
              "    </tr>\n",
              "  </thead>\n",
              "  <tbody>\n",
              "    <tr>\n",
              "      <th>0</th>\n",
              "      <td>PETRH182</td>\n",
              "      <td></td>\n",
              "      <td>CALL</td>\n",
              "      <td>E</td>\n",
              "      <td>ITM</td>\n",
              "      <td>21.28</td>\n",
              "      <td>-3.97</td>\n",
              "      <td>7.85</td>\n",
              "      <td>1.74</td>\n",
              "      <td>102.0</td>\n",
              "      <td>334498.0</td>\n",
              "      <td>13/07/2020</td>\n",
              "      <td></td>\n",
              "      <td></td>\n",
              "      <td></td>\n",
              "      <td></td>\n",
              "      <td></td>\n",
              "    </tr>\n",
              "    <tr>\n",
              "      <th>1</th>\n",
              "      <td>PETRT182</td>\n",
              "      <td></td>\n",
              "      <td>PUT</td>\n",
              "      <td>E</td>\n",
              "      <td>OTM</td>\n",
              "      <td>21.28</td>\n",
              "      <td>-3.97</td>\n",
              "      <td>3.29</td>\n",
              "      <td>0.73</td>\n",
              "      <td>95.0</td>\n",
              "      <td>115932.0</td>\n",
              "      <td>13/07/2020</td>\n",
              "      <td></td>\n",
              "      <td></td>\n",
              "      <td></td>\n",
              "      <td></td>\n",
              "      <td></td>\n",
              "    </tr>\n",
              "    <tr>\n",
              "      <th>2</th>\n",
              "      <td>PETRH220</td>\n",
              "      <td></td>\n",
              "      <td>CALL</td>\n",
              "      <td>A</td>\n",
              "      <td>ITM</td>\n",
              "      <td>21.53</td>\n",
              "      <td>-2.84</td>\n",
              "      <td>7.04</td>\n",
              "      <td>1.56</td>\n",
              "      <td>322.0</td>\n",
              "      <td>1569689.0</td>\n",
              "      <td>13/07/2020</td>\n",
              "      <td></td>\n",
              "      <td></td>\n",
              "      <td></td>\n",
              "      <td></td>\n",
              "      <td></td>\n",
              "    </tr>\n",
              "  </tbody>\n",
              "</table>\n",
              "</div>"
            ],
            "text/plain": [
              "  ticker_lista fm_lista Tipo_lista Mod  ... Delta  Gamma  Theta  Vega\n",
              "0     PETRH182                CALL   E  ...                          \n",
              "1     PETRT182                 PUT   E  ...                          \n",
              "2     PETRH220                CALL   A  ...                          \n",
              "\n",
              "[3 rows x 17 columns]"
            ]
          },
          "metadata": {
            "tags": []
          },
          "execution_count": 179
        }
      ]
    },
    {
      "cell_type": "code",
      "metadata": {
        "id": "5aRI2fTjUA7T",
        "colab_type": "code",
        "colab": {
          "base_uri": "https://localhost:8080/",
          "height": 34
        },
        "outputId": "8fbb4ea4-cf50-4791-be92-3c5c862638a9"
      },
      "source": [
        "import time\n",
        "#problema aqui eh o horario local definido eh no pais onde colab esta rodando.\n",
        "time.localtime()"
      ],
      "execution_count": 53,
      "outputs": [
        {
          "output_type": "execute_result",
          "data": {
            "text/plain": [
              "time.struct_time(tm_year=2020, tm_mon=7, tm_mday=14, tm_hour=14, tm_min=6, tm_sec=9, tm_wday=1, tm_yday=196, tm_isdst=0)"
            ]
          },
          "metadata": {
            "tags": []
          },
          "execution_count": 53
        }
      ]
    },
    {
      "cell_type": "code",
      "metadata": {
        "id": "xYPsKo6Lm3x5",
        "colab_type": "code",
        "colab": {}
      },
      "source": [
        "hora=time.localtime().tm_hour\n",
        "min=time.localtime().tm_min\n",
        "seg=time.localtime().tm_sec"
      ],
      "execution_count": 54,
      "outputs": []
    },
    {
      "cell_type": "code",
      "metadata": {
        "id": "M2wDzf9wyVSK",
        "colab_type": "code",
        "colab": {}
      },
      "source": [
        "opcoes.to_excel(f'opcoes_{hora}h{min}m{seg}s.xls')"
      ],
      "execution_count": 55,
      "outputs": []
    },
    {
      "cell_type": "code",
      "metadata": {
        "id": "1Y9r9saQuKv-",
        "colab_type": "code",
        "colab": {
          "base_uri": "https://localhost:8080/",
          "height": 426
        },
        "outputId": "c88e11b6-8125-46cb-f944-7bd52ad39d0a"
      },
      "source": [
        "opcoes.info()"
      ],
      "execution_count": 180,
      "outputs": [
        {
          "output_type": "stream",
          "text": [
            "<class 'pandas.core.frame.DataFrame'>\n",
            "RangeIndex: 16 entries, 0 to 15\n",
            "Data columns (total 17 columns):\n",
            " #   Column                      Non-Null Count  Dtype  \n",
            "---  ------                      --------------  -----  \n",
            " 0   ticker_lista                16 non-null     object \n",
            " 1   fm_lista                    16 non-null     object \n",
            " 2   Tipo_lista                  16 non-null     object \n",
            " 3   Mod                         16 non-null     object \n",
            " 4   AIOTM                       16 non-null     object \n",
            " 5   Strike                      16 non-null     float64\n",
            " 6   DistanciadoStrike           16 non-null     float64\n",
            " 7   Premio_perc_ultima_cotacao  16 non-null     float64\n",
            " 8   ultimo_premio               16 non-null     float64\n",
            " 9   nodenegocios                16 non-null     float64\n",
            " 10  VolumeNegociado             16 non-null     float64\n",
            " 11  DataHora                    16 non-null     object \n",
            " 12  VolImplicita                16 non-null     object \n",
            " 13  Delta                       16 non-null     object \n",
            " 14  Gamma                       16 non-null     object \n",
            " 15  Theta                       16 non-null     object \n",
            " 16  Vega                        16 non-null     object \n",
            "dtypes: float64(6), object(11)\n",
            "memory usage: 2.2+ KB\n"
          ],
          "name": "stdout"
        }
      ]
    },
    {
      "cell_type": "code",
      "metadata": {
        "id": "SN1U8NsMvnor",
        "colab_type": "code",
        "colab": {
          "base_uri": "https://localhost:8080/",
          "height": 119
        },
        "outputId": "e647d98a-d8ff-4550-9d8d-bf699c8954a9"
      },
      "source": [
        "#este,<class 'numpy.str_'>, eh o formato que esta dando problema.\n",
        "\n",
        "print(type(opcoes.Strike[0]))\n",
        "print(type(opcoes.DistanciadoStrike[0]))\n",
        "print(type(opcoes.Premio_perc_ultima_cotacao[0]))\n",
        "print(type(opcoes.ultimo_premio[0]))\n",
        "print(type(opcoes.nodenegocios[0]))\n",
        "print(type(opcoes.VolumeNegociado[0]))"
      ],
      "execution_count": 181,
      "outputs": [
        {
          "output_type": "stream",
          "text": [
            "<class 'numpy.float64'>\n",
            "<class 'numpy.float64'>\n",
            "<class 'numpy.float64'>\n",
            "<class 'numpy.float64'>\n",
            "<class 'numpy.float64'>\n",
            "<class 'numpy.float64'>\n"
          ],
          "name": "stdout"
        }
      ]
    },
    {
      "cell_type": "code",
      "metadata": {
        "id": "OxbpPiovu_2l",
        "colab_type": "code",
        "colab": {
          "base_uri": "https://localhost:8080/",
          "height": 525
        },
        "outputId": "20dc395c-33cd-4d59-a44b-76063d9c822c"
      },
      "source": [
        "#opcoes.Strike.dtype\n",
        "\n",
        "opcoes.apply(pd.to_numeric, errors='coerce')"
      ],
      "execution_count": 183,
      "outputs": [
        {
          "output_type": "execute_result",
          "data": {
            "text/html": [
              "<div>\n",
              "<style scoped>\n",
              "    .dataframe tbody tr th:only-of-type {\n",
              "        vertical-align: middle;\n",
              "    }\n",
              "\n",
              "    .dataframe tbody tr th {\n",
              "        vertical-align: top;\n",
              "    }\n",
              "\n",
              "    .dataframe thead th {\n",
              "        text-align: right;\n",
              "    }\n",
              "</style>\n",
              "<table border=\"1\" class=\"dataframe\">\n",
              "  <thead>\n",
              "    <tr style=\"text-align: right;\">\n",
              "      <th></th>\n",
              "      <th>ticker_lista</th>\n",
              "      <th>fm_lista</th>\n",
              "      <th>Tipo_lista</th>\n",
              "      <th>Mod</th>\n",
              "      <th>AIOTM</th>\n",
              "      <th>Strike</th>\n",
              "      <th>DistanciadoStrike</th>\n",
              "      <th>Premio_perc_ultima_cotacao</th>\n",
              "      <th>ultimo_premio</th>\n",
              "      <th>nodenegocios</th>\n",
              "      <th>VolumeNegociado</th>\n",
              "      <th>DataHora</th>\n",
              "      <th>VolImplicita</th>\n",
              "      <th>Delta</th>\n",
              "      <th>Gamma</th>\n",
              "      <th>Theta</th>\n",
              "      <th>Vega</th>\n",
              "    </tr>\n",
              "  </thead>\n",
              "  <tbody>\n",
              "    <tr>\n",
              "      <th>0</th>\n",
              "      <td>NaN</td>\n",
              "      <td>NaN</td>\n",
              "      <td>NaN</td>\n",
              "      <td>NaN</td>\n",
              "      <td>NaN</td>\n",
              "      <td>21.28</td>\n",
              "      <td>-3.97</td>\n",
              "      <td>7.85</td>\n",
              "      <td>1.74</td>\n",
              "      <td>102.000</td>\n",
              "      <td>334498.0</td>\n",
              "      <td>NaN</td>\n",
              "      <td>NaN</td>\n",
              "      <td>NaN</td>\n",
              "      <td>NaN</td>\n",
              "      <td>NaN</td>\n",
              "      <td>NaN</td>\n",
              "    </tr>\n",
              "    <tr>\n",
              "      <th>1</th>\n",
              "      <td>NaN</td>\n",
              "      <td>NaN</td>\n",
              "      <td>NaN</td>\n",
              "      <td>NaN</td>\n",
              "      <td>NaN</td>\n",
              "      <td>21.28</td>\n",
              "      <td>-3.97</td>\n",
              "      <td>3.29</td>\n",
              "      <td>0.73</td>\n",
              "      <td>95.000</td>\n",
              "      <td>115932.0</td>\n",
              "      <td>NaN</td>\n",
              "      <td>NaN</td>\n",
              "      <td>NaN</td>\n",
              "      <td>NaN</td>\n",
              "      <td>NaN</td>\n",
              "      <td>NaN</td>\n",
              "    </tr>\n",
              "    <tr>\n",
              "      <th>2</th>\n",
              "      <td>NaN</td>\n",
              "      <td>NaN</td>\n",
              "      <td>NaN</td>\n",
              "      <td>NaN</td>\n",
              "      <td>NaN</td>\n",
              "      <td>21.53</td>\n",
              "      <td>-2.84</td>\n",
              "      <td>7.04</td>\n",
              "      <td>1.56</td>\n",
              "      <td>322.000</td>\n",
              "      <td>1569689.0</td>\n",
              "      <td>NaN</td>\n",
              "      <td>NaN</td>\n",
              "      <td>NaN</td>\n",
              "      <td>NaN</td>\n",
              "      <td>NaN</td>\n",
              "      <td>NaN</td>\n",
              "    </tr>\n",
              "    <tr>\n",
              "      <th>3</th>\n",
              "      <td>NaN</td>\n",
              "      <td>NaN</td>\n",
              "      <td>NaN</td>\n",
              "      <td>NaN</td>\n",
              "      <td>NaN</td>\n",
              "      <td>21.53</td>\n",
              "      <td>-2.84</td>\n",
              "      <td>3.70</td>\n",
              "      <td>0.82</td>\n",
              "      <td>216.000</td>\n",
              "      <td>156930.0</td>\n",
              "      <td>NaN</td>\n",
              "      <td>NaN</td>\n",
              "      <td>NaN</td>\n",
              "      <td>NaN</td>\n",
              "      <td>NaN</td>\n",
              "      <td>NaN</td>\n",
              "    </tr>\n",
              "    <tr>\n",
              "      <th>4</th>\n",
              "      <td>NaN</td>\n",
              "      <td>NaN</td>\n",
              "      <td>NaN</td>\n",
              "      <td>NaN</td>\n",
              "      <td>NaN</td>\n",
              "      <td>21.78</td>\n",
              "      <td>-1.71</td>\n",
              "      <td>6.32</td>\n",
              "      <td>1.40</td>\n",
              "      <td>61.000</td>\n",
              "      <td>310386.0</td>\n",
              "      <td>NaN</td>\n",
              "      <td>NaN</td>\n",
              "      <td>NaN</td>\n",
              "      <td>NaN</td>\n",
              "      <td>NaN</td>\n",
              "      <td>NaN</td>\n",
              "    </tr>\n",
              "    <tr>\n",
              "      <th>5</th>\n",
              "      <td>NaN</td>\n",
              "      <td>NaN</td>\n",
              "      <td>NaN</td>\n",
              "      <td>NaN</td>\n",
              "      <td>NaN</td>\n",
              "      <td>21.78</td>\n",
              "      <td>-1.71</td>\n",
              "      <td>4.29</td>\n",
              "      <td>0.95</td>\n",
              "      <td>233.000</td>\n",
              "      <td>715276.0</td>\n",
              "      <td>NaN</td>\n",
              "      <td>NaN</td>\n",
              "      <td>NaN</td>\n",
              "      <td>NaN</td>\n",
              "      <td>NaN</td>\n",
              "      <td>NaN</td>\n",
              "    </tr>\n",
              "    <tr>\n",
              "      <th>6</th>\n",
              "      <td>NaN</td>\n",
              "      <td>NaN</td>\n",
              "      <td>NaN</td>\n",
              "      <td>NaN</td>\n",
              "      <td>NaN</td>\n",
              "      <td>22.03</td>\n",
              "      <td>-0.59</td>\n",
              "      <td>5.78</td>\n",
              "      <td>1.28</td>\n",
              "      <td>651.000</td>\n",
              "      <td>1394839.0</td>\n",
              "      <td>NaN</td>\n",
              "      <td>NaN</td>\n",
              "      <td>NaN</td>\n",
              "      <td>NaN</td>\n",
              "      <td>NaN</td>\n",
              "      <td>NaN</td>\n",
              "    </tr>\n",
              "    <tr>\n",
              "      <th>7</th>\n",
              "      <td>NaN</td>\n",
              "      <td>NaN</td>\n",
              "      <td>NaN</td>\n",
              "      <td>NaN</td>\n",
              "      <td>NaN</td>\n",
              "      <td>22.03</td>\n",
              "      <td>-0.59</td>\n",
              "      <td>4.60</td>\n",
              "      <td>1.02</td>\n",
              "      <td>322.000</td>\n",
              "      <td>618163.0</td>\n",
              "      <td>NaN</td>\n",
              "      <td>NaN</td>\n",
              "      <td>NaN</td>\n",
              "      <td>NaN</td>\n",
              "      <td>NaN</td>\n",
              "      <td>NaN</td>\n",
              "    </tr>\n",
              "    <tr>\n",
              "      <th>8</th>\n",
              "      <td>NaN</td>\n",
              "      <td>NaN</td>\n",
              "      <td>NaN</td>\n",
              "      <td>NaN</td>\n",
              "      <td>NaN</td>\n",
              "      <td>22.28</td>\n",
              "      <td>0.54</td>\n",
              "      <td>5.14</td>\n",
              "      <td>1.14</td>\n",
              "      <td>240.000</td>\n",
              "      <td>445259.0</td>\n",
              "      <td>NaN</td>\n",
              "      <td>NaN</td>\n",
              "      <td>NaN</td>\n",
              "      <td>NaN</td>\n",
              "      <td>NaN</td>\n",
              "      <td>NaN</td>\n",
              "    </tr>\n",
              "    <tr>\n",
              "      <th>9</th>\n",
              "      <td>NaN</td>\n",
              "      <td>NaN</td>\n",
              "      <td>NaN</td>\n",
              "      <td>NaN</td>\n",
              "      <td>NaN</td>\n",
              "      <td>22.28</td>\n",
              "      <td>0.54</td>\n",
              "      <td>5.19</td>\n",
              "      <td>1.15</td>\n",
              "      <td>112.000</td>\n",
              "      <td>239928.0</td>\n",
              "      <td>NaN</td>\n",
              "      <td>NaN</td>\n",
              "      <td>NaN</td>\n",
              "      <td>NaN</td>\n",
              "      <td>NaN</td>\n",
              "      <td>NaN</td>\n",
              "    </tr>\n",
              "    <tr>\n",
              "      <th>10</th>\n",
              "      <td>NaN</td>\n",
              "      <td>NaN</td>\n",
              "      <td>NaN</td>\n",
              "      <td>NaN</td>\n",
              "      <td>NaN</td>\n",
              "      <td>22.53</td>\n",
              "      <td>1.67</td>\n",
              "      <td>4.74</td>\n",
              "      <td>1.05</td>\n",
              "      <td>1.193</td>\n",
              "      <td>2567237.0</td>\n",
              "      <td>NaN</td>\n",
              "      <td>NaN</td>\n",
              "      <td>NaN</td>\n",
              "      <td>NaN</td>\n",
              "      <td>NaN</td>\n",
              "      <td>NaN</td>\n",
              "    </tr>\n",
              "    <tr>\n",
              "      <th>11</th>\n",
              "      <td>NaN</td>\n",
              "      <td>NaN</td>\n",
              "      <td>NaN</td>\n",
              "      <td>NaN</td>\n",
              "      <td>NaN</td>\n",
              "      <td>22.53</td>\n",
              "      <td>1.67</td>\n",
              "      <td>5.87</td>\n",
              "      <td>1.30</td>\n",
              "      <td>306.000</td>\n",
              "      <td>952799.0</td>\n",
              "      <td>NaN</td>\n",
              "      <td>NaN</td>\n",
              "      <td>NaN</td>\n",
              "      <td>NaN</td>\n",
              "      <td>NaN</td>\n",
              "      <td>NaN</td>\n",
              "    </tr>\n",
              "    <tr>\n",
              "      <th>12</th>\n",
              "      <td>NaN</td>\n",
              "      <td>NaN</td>\n",
              "      <td>NaN</td>\n",
              "      <td>NaN</td>\n",
              "      <td>NaN</td>\n",
              "      <td>22.78</td>\n",
              "      <td>2.80</td>\n",
              "      <td>4.15</td>\n",
              "      <td>0.92</td>\n",
              "      <td>482.000</td>\n",
              "      <td>455039.0</td>\n",
              "      <td>NaN</td>\n",
              "      <td>NaN</td>\n",
              "      <td>NaN</td>\n",
              "      <td>NaN</td>\n",
              "      <td>NaN</td>\n",
              "      <td>NaN</td>\n",
              "    </tr>\n",
              "    <tr>\n",
              "      <th>13</th>\n",
              "      <td>NaN</td>\n",
              "      <td>NaN</td>\n",
              "      <td>NaN</td>\n",
              "      <td>NaN</td>\n",
              "      <td>NaN</td>\n",
              "      <td>22.78</td>\n",
              "      <td>2.80</td>\n",
              "      <td>6.36</td>\n",
              "      <td>1.41</td>\n",
              "      <td>159.000</td>\n",
              "      <td>873728.0</td>\n",
              "      <td>NaN</td>\n",
              "      <td>NaN</td>\n",
              "      <td>NaN</td>\n",
              "      <td>NaN</td>\n",
              "      <td>NaN</td>\n",
              "      <td>NaN</td>\n",
              "    </tr>\n",
              "    <tr>\n",
              "      <th>14</th>\n",
              "      <td>NaN</td>\n",
              "      <td>NaN</td>\n",
              "      <td>NaN</td>\n",
              "      <td>NaN</td>\n",
              "      <td>NaN</td>\n",
              "      <td>23.03</td>\n",
              "      <td>3.93</td>\n",
              "      <td>3.61</td>\n",
              "      <td>0.80</td>\n",
              "      <td>923.000</td>\n",
              "      <td>4568649.0</td>\n",
              "      <td>NaN</td>\n",
              "      <td>NaN</td>\n",
              "      <td>NaN</td>\n",
              "      <td>NaN</td>\n",
              "      <td>NaN</td>\n",
              "      <td>NaN</td>\n",
              "    </tr>\n",
              "    <tr>\n",
              "      <th>15</th>\n",
              "      <td>NaN</td>\n",
              "      <td>NaN</td>\n",
              "      <td>NaN</td>\n",
              "      <td>NaN</td>\n",
              "      <td>NaN</td>\n",
              "      <td>23.03</td>\n",
              "      <td>3.93</td>\n",
              "      <td>7.08</td>\n",
              "      <td>1.57</td>\n",
              "      <td>143.000</td>\n",
              "      <td>556236.0</td>\n",
              "      <td>NaN</td>\n",
              "      <td>NaN</td>\n",
              "      <td>NaN</td>\n",
              "      <td>NaN</td>\n",
              "      <td>NaN</td>\n",
              "      <td>NaN</td>\n",
              "    </tr>\n",
              "  </tbody>\n",
              "</table>\n",
              "</div>"
            ],
            "text/plain": [
              "    ticker_lista  fm_lista  Tipo_lista  Mod  ...  Delta  Gamma  Theta  Vega\n",
              "0            NaN       NaN         NaN  NaN  ...    NaN    NaN    NaN   NaN\n",
              "1            NaN       NaN         NaN  NaN  ...    NaN    NaN    NaN   NaN\n",
              "2            NaN       NaN         NaN  NaN  ...    NaN    NaN    NaN   NaN\n",
              "3            NaN       NaN         NaN  NaN  ...    NaN    NaN    NaN   NaN\n",
              "4            NaN       NaN         NaN  NaN  ...    NaN    NaN    NaN   NaN\n",
              "5            NaN       NaN         NaN  NaN  ...    NaN    NaN    NaN   NaN\n",
              "6            NaN       NaN         NaN  NaN  ...    NaN    NaN    NaN   NaN\n",
              "7            NaN       NaN         NaN  NaN  ...    NaN    NaN    NaN   NaN\n",
              "8            NaN       NaN         NaN  NaN  ...    NaN    NaN    NaN   NaN\n",
              "9            NaN       NaN         NaN  NaN  ...    NaN    NaN    NaN   NaN\n",
              "10           NaN       NaN         NaN  NaN  ...    NaN    NaN    NaN   NaN\n",
              "11           NaN       NaN         NaN  NaN  ...    NaN    NaN    NaN   NaN\n",
              "12           NaN       NaN         NaN  NaN  ...    NaN    NaN    NaN   NaN\n",
              "13           NaN       NaN         NaN  NaN  ...    NaN    NaN    NaN   NaN\n",
              "14           NaN       NaN         NaN  NaN  ...    NaN    NaN    NaN   NaN\n",
              "15           NaN       NaN         NaN  NaN  ...    NaN    NaN    NaN   NaN\n",
              "\n",
              "[16 rows x 17 columns]"
            ]
          },
          "metadata": {
            "tags": []
          },
          "execution_count": 183
        }
      ]
    },
    {
      "cell_type": "code",
      "metadata": {
        "id": "aUYbObr7R59g",
        "colab_type": "code",
        "colab": {}
      },
      "source": [
        ""
      ],
      "execution_count": 10,
      "outputs": []
    },
    {
      "cell_type": "code",
      "metadata": {
        "id": "MMtidaW1TUus",
        "colab_type": "code",
        "colab": {}
      },
      "source": [
        ""
      ],
      "execution_count": null,
      "outputs": []
    },
    {
      "cell_type": "markdown",
      "metadata": {
        "id": "JNiQRXjj1X7y",
        "colab_type": "text"
      },
      "source": [
        "from bs4 import BeautifulSoup\n",
        "\n",
        "page_html = wd.page_source\n",
        "\n",
        "soup = BeautifulSoup(page_html,'html.parser')\n",
        "\n",
        "print(soup.find_all('td', {\"class\": \"dt-body-right sorting_1\"})) # results\n",
        "\n",
        "\n",
        "\n",
        "\n",
        "soup.find_all('td', {\"class\": \"dt-body-right sorting_1\"})\n",
        "\n",
        "\n",
        "soup.find_all('td')\n",
        "\n",
        "\n",
        "soup.find_all('td', {\"class\": \"dt-body-right sorting_1\"})[1].text\n",
        "\n",
        "\n",
        "soup.find_all('td', {\"class\": \" dt-body-right font-bold\"})\n",
        "\n",
        "\n",
        "\n",
        "tabela=soup.find_all('tbody')"
      ]
    },
    {
      "cell_type": "code",
      "metadata": {
        "id": "ZCAKF9zn1Y2p",
        "colab_type": "code",
        "colab": {}
      },
      "source": [
        ""
      ],
      "execution_count": null,
      "outputs": []
    }
  ]
}